{
 "cells": [
  {
   "cell_type": "markdown",
   "metadata": {},
   "source": [
    "# Reading datasets"
   ]
  },
  {
   "cell_type": "code",
   "execution_count": 21,
   "metadata": {
    "scrolled": true
   },
   "outputs": [],
   "source": [
    "import pandas as pd\n",
    "from collections import defaultdict \n",
    "import os, time, json\n",
    "sample_data_filepath = './Sample Datasets/'\n",
    "generated_data_filepath = './Generated Sample Datasets/'\n",
    "\n",
    "### Select the datasets to use ###\n",
    "data_filepath = generated_data_filepath\n",
    "\n",
    "SSIC_TABLE = pd.read_csv(data_filepath + \"pri_ssic.csv\")\n",
    "SHAREHOLDER_TABLE = pd.read_csv(data_filepath + \"shareholders.csv\")\n",
    "APPOINTMENT_TABLE = pd.read_csv(data_filepath + \"appointments.csv\")\n",
    "CORPPASS_TABLE = pd.read_csv(data_filepath + \"corppass.csv\")\n",
    "ADDRESS_TABLE = pd.read_csv(data_filepath + \"addresses.csv\")\n",
    "\n",
    "TABLE_NAMES_DICT = {\"SSIC\": SSIC_TABLE,\n",
    "                    \"Shareholder\" : SHAREHOLDER_TABLE,\n",
    "                    \"Appointment\" : APPOINTMENT_TABLE,\n",
    "                    \"CorpPass\": CORPPASS_TABLE,\n",
    "                    \"Address\": ADDRESS_TABLE}\n",
    "\n",
    "RS_NAMES_DICT = {\"SSIC\": \"Primary SSIC\",\n",
    "                    \"Shareholder\" : \"Shareholder UEN\",\n",
    "                    \"Appointment\" : \"Appointment Name\",\n",
    "                    \"CorpPass\": \"CorpPass\",\n",
    "                    \"Address\": \"Address\"}\n"
   ]
  },
  {
   "cell_type": "markdown",
   "metadata": {},
   "source": [
    "# Class Definitions"
   ]
  },
  {
   "cell_type": "code",
   "execution_count": 22,
   "metadata": {},
   "outputs": [],
   "source": [
    "#################### WORKING WITH TUPLE ####################\n",
    "# This class represents a directed graph \n",
    "# using adjacency list representation \n",
    "\n",
    "class Graph: \n",
    "    # Constructor \n",
    "    def __init__(self): \n",
    "\n",
    "        # default dictionary to store graph \n",
    "        self.graph = defaultdict(list) \n",
    "        self.immediateNeigh = defaultdict(set)\n",
    "\n",
    "    # function to add an edge to graph only if node is not null\n",
    "    def addEdge(self,u, v, rs): \n",
    "        bidir = False\n",
    "        if str(u) != 'nan' and str(v) != 'nan':\n",
    "            if bidir: # bidirectional\n",
    "                self.graph[u].append((v, rs)) \n",
    "                self.graph[v].append((u, rs)) \n",
    "                self.immediateNeigh[u].add((v, rs))\n",
    "                self.immediateNeigh[v].add((u, rs))\n",
    "            else: # unidirectional\n",
    "                self.graph[u].append((v, rs)) \n",
    "                self.immediateNeigh[u].add((v, rs))\n",
    "        \n",
    "    # Function to print a SSSP \n",
    "    def shortestPath(self, u, v): \n",
    "        \n",
    "        # Mark all the vertices as not visited \n",
    "        visited = set()\n",
    "\n",
    "        # Create a queue for BFS \n",
    "        queue = [] \n",
    "\n",
    "        # Mark the source node as \n",
    "        # visited and enqueue it \n",
    "        queue.append(u)\n",
    "        visited.add(u)\n",
    "        predecessor_dic = {}\n",
    "        #predecessor of source is none\n",
    "        predecessor_dic[u] = -1\n",
    "\n",
    "        while queue: \n",
    "            # Dequeue a vertex from \n",
    "            # queue and print it \n",
    "            u = queue.pop(0) \n",
    "\n",
    "            # Get all adjacent vertices of the \n",
    "            # dequeued vertex s. If a adjacent \n",
    "            # has not been visited, then mark it \n",
    "            # visited and enqueue it \n",
    "            for i in self.immediateNeigh[u]: \n",
    "                i = i[0]\n",
    "                if i not in visited: \n",
    "                    queue.append(i) \n",
    "                    visited.add(i)\n",
    "                    predecessor_dic[i] = u\n",
    "        if v in visited:\n",
    "            #trace path\n",
    "            return self.backtrack(v, predecessor_dic)\n",
    "            \n",
    "    def backtrack(self, v, predecessor_dic):\n",
    "        if v == -1:\n",
    "            return []\n",
    "        tmp = self.backtrack(predecessor_dic[v], predecessor_dic)\n",
    "        tmp.append(v)\n",
    "        return tmp\n",
    "#         return tmp + ' ' + v if tmp else v\n",
    "            \n",
    "    def depth(self, u, d, s={}): \n",
    "        #to find neighbours in depth of len(s) and less\n",
    "        neighbours = self.immediateNeigh[u]\n",
    "        visited = set()\n",
    "        s = {} if s else s\n",
    "        \n",
    "        if u not in visited:\n",
    "            \n",
    "            if (d == 1) and neighbours:\n",
    "                s[u] = neighbours\n",
    "\n",
    "            elif neighbours:\n",
    "                s[u] = set()\n",
    "                for y in neighbours:\n",
    "                    s[u].add(y)\n",
    "\n",
    "                    for k,v in self.depth(y[0], d-1, s).items():\n",
    "                        if not v:\n",
    "                            continue\n",
    "\n",
    "                        elif k in s.keys():\n",
    "                            for item in v:\n",
    "                                s[k].add(item)\n",
    "                        else:\n",
    "                            s[k] = set(v)\n",
    "            visited.add(u)\n",
    "\n",
    "        return s\n",
    "    \n",
    "    def filter(self, g, filter_dic):\n",
    "        flag = 0\n",
    "        \n",
    "        #filtering process to those field that are wanted and add edges to graph\n",
    "        if not all(value == [] for value in filter_dic.values()): # check if filter_dic values are not empty\n",
    "            \n",
    "            for colname, col_values in filter_dic.items(): # filter_dic example: {'Shareholder': ['sh1', 'sh2'], 'Appointment': ['app1']}\n",
    "                df = TABLE_NAMES_DICT[colname]\n",
    "                \n",
    "                for col_value in col_values: # for each filtering value\n",
    "                    filtered_df = df[df[RS_NAMES_DICT[colname]] == col_value] if colname.lower() != 'appointment' else df[df[\"Appointment Name\"] == col_value]\n",
    "                    \n",
    "                    if not dict(filtered_df): # Checks if subset of table is empty and ignores it\n",
    "                        continue \n",
    "                        \n",
    "                    if colname.lower() != 'appointment':\n",
    "                        filtered_df.apply(lambda x: g.addEdge(x[\"Entity UEN\"], x[RS_NAMES_DICT[colname]], colname), axis=1)\n",
    "                    else:\n",
    "                        filtered_df.apply(lambda x: g.addEdge(x[\"Entity UEN\"], x['Appointment UEN'], x[RS_NAMES_DICT[colname]]), axis=1)\n",
    "                \n",
    "        else: # if no filter is selected\n",
    "            \n",
    "            for colname in filter_dic.keys(): # filter_dic example: {'Shareholder': [], 'Appointment': []}\n",
    "#                 print(\"Column Name: \", colname)                \n",
    "                filtered_df = TABLE_NAMES_DICT[colname]\n",
    "                \n",
    "                if colname.lower() != 'appointment':\n",
    "                    filtered_df.apply(lambda x: g.addEdge(x[\"Entity UEN\"], x[RS_NAMES_DICT[colname]], colname), axis=1)\n",
    "                else:\n",
    "                    filtered_df.apply(lambda x: g.addEdge(x[\"Entity UEN\"], x['Appointment UEN'], x[RS_NAMES_DICT[colname]]), axis=1)\n",
    "        return g"
   ]
  },
  {
   "cell_type": "markdown",
   "metadata": {},
   "source": [
    "# Runtime Measurements"
   ]
  },
  {
   "cell_type": "code",
   "execution_count": 23,
   "metadata": {},
   "outputs": [],
   "source": [
    "class SetEncoder(json.JSONEncoder):\n",
    "    def default(self, obj):\n",
    "        if isinstance(obj, set):\n",
    "            return list(obj)\n",
    "        return json.JSONEncoder.default(self, obj)"
   ]
  },
  {
   "cell_type": "code",
   "execution_count": 24,
   "metadata": {
    "scrolled": true
   },
   "outputs": [
    {
     "name": "stdout",
     "output_type": "stream",
     "text": [
      "Avg Depth Search runtime:  0.01870859464009603\n",
      "{\"en5\": [[\"app5\", \"Deputy Director\"], [\"cp0\", \"CorpPass\"], [\"sh5\", \"Shareholder\"], [\"ssic5\", \"SSIC\"], [\"app4\", \"HR Manager\"], [\"app11\", \"HR Manager\"], [\"app1\", \"Sales Manager\"], [\"cp5\", \"CorpPass\"], [\"add5\", \"Address\"]], \"app5\": [[\"app8\", \"HR Manager\"]], \"app8\": [[\"app6\", \"Finance Manager\"]], \"app6\": [[\"app11\", \"Project Lead\"]], \"app11\": [[\"app7\", \"HR Manager\"], [\"en20\", \"Project Lead\"], [\"app4\", \"Sales Manager\"]], \"app7\": [[\"app16\", \"HR Manager\"]], \"app16\": [[\"en9\", \"HR Manager\"]], \"en9\": [[\"sh9\", \"Shareholder\"], [\"app1\", \"Finance Manager\"], [\"app0\", \"HR Manager\"], [\"ssic20\", \"SSIC\"], [\"cp9\", \"CorpPass\"], [\"app9\", \"HR Manager\"], [\"app11\", \"Sales Manager\"], [\"app19\", \"Sales Manager\"], [\"ssic9\", \"SSIC\"], [\"add9\", \"Address\"], [\"ssic6\", \"SSIC\"]], \"app1\": [[\"en18\", \"HR Manager\"], [\"app11\", \"Project Lead\"]], \"en18\": [[\"ssic18\", \"SSIC\"], [\"sh18\", \"Shareholder\"], [\"app18\", \"Project Lead\"], [\"app11\", \"Project Lead\"], [\"cp18\", \"CorpPass\"], [\"add18\", \"Address\"]], \"ssic20\": [[\"en4\", \"SSIC\"], [\"ssic6\", \"SSIC\"]], \"en4\": [[\"ssic14\", \"SSIC\"], [\"cp6\", \"CorpPass\"], [\"ssic8\", \"SSIC\"], [\"cp4\", \"CorpPass\"], [\"app4\", \"Sales Manager\"], [\"ssic2\", \"SSIC\"], [\"add4\", \"Address\"], [\"sh4\", \"Shareholder\"], [\"ssic4\", \"SSIC\"]], \"ssic6\": [[\"ssic18\", \"SSIC\"], [\"ssic11\", \"SSIC\"]], \"en20\": [[\"add17\", \"Address\"], [\"app5\", \"Deputy Director\"], [\"sh20\", \"Shareholder\"], [\"add8\", \"Address\"], [\"cp20\", \"CorpPass\"], [\"ssic20\", \"SSIC\"], [\"add18\", \"Address\"], [\"app20\", \"HR Manager\"], [\"add20\", \"Address\"]], \"app4\": [[\"en9\", \"HR Manager\"]], \"add9\": [[\"add5\", \"Address\"]], \"add5\": [[\"add0\", \"Address\"]], \"ssic18\": [[\"ssic7\", \"SSIC\"], [\"ssic8\", \"SSIC\"]], \"ssic11\": [[\"ssic18\", \"SSIC\"], [\"ssic20\", \"SSIC\"]], \"sh20\": [[\"sh1\", \"Shareholder\"]], \"sh1\": [[\"sh15\", \"Shareholder\"], [\"en6\", \"Shareholder\"], [\"sh13\", \"Shareholder\"]], \"sh15\": [[\"en12\", \"Shareholder\"], [\"en6\", \"Shareholder\"]], \"en12\": [[\"app12\", \"Director\"], [\"sh1\", \"Shareholder\"], [\"ssic12\", \"SSIC\"], [\"add12\", \"Address\"], [\"cp12\", \"CorpPass\"], [\"sh11\", \"Shareholder\"], [\"sh2\", \"Shareholder\"], [\"sh12\", \"Shareholder\"]], \"en6\": [[\"cp16\", \"CorpPass\"], [\"cp8\", \"CorpPass\"], [\"app6\", \"Finance Manager\"], [\"add6\", \"Address\"], [\"sh17\", \"Shareholder\"], [\"ssic6\", \"SSIC\"], [\"cp7\", \"CorpPass\"], [\"sh8\", \"Shareholder\"], [\"sh6\", \"Shareholder\"], [\"cp6\", \"CorpPass\"]], \"cp16\": [[\"cp11\", \"CorpPass\"]], \"add6\": [[\"add9\", \"Address\"]], \"sh17\": [[\"sh0\", \"Shareholder\"]], \"cp7\": [[\"cp3\", \"CorpPass\"]], \"sh8\": [[\"sh6\", \"Shareholder\"]], \"sh6\": [[\"sh12\", \"Shareholder\"]], \"sh13\": [[\"sh11\", \"Shareholder\"]], \"sh11\": [[\"en12\", \"Shareholder\"], [\"sh20\", \"Shareholder\"]], \"add8\": [[\"add2\", \"Address\"]], \"add2\": [[\"add4\", \"Address\"]], \"add4\": [[\"add7\", \"Address\"]], \"add7\": [[\"en20\", \"Address\"]], \"cp20\": [[\"cp10\", \"CorpPass\"]], \"cp10\": [[\"en5\", \"CorpPass\"]], \"cp0\": [[\"cp2\", \"CorpPass\"], [\"cp3\", \"CorpPass\"]], \"ssic14\": [[\"ssic6\", \"SSIC\"]], \"ssic8\": [[\"en9\", \"SSIC\"]], \"cp4\": [[\"en6\", \"CorpPass\"]], \"ssic7\": [[\"en1\", \"SSIC\"]], \"add18\": [[\"add12\", \"Address\"]], \"add12\": [[\"add15\", \"Address\"]], \"add15\": [[\"en10\", \"Address\"]], \"en10\": [[\"add10\", \"Address\"], [\"cp20\", \"CorpPass\"], [\"add1\", \"Address\"], [\"ssic10\", \"SSIC\"], [\"ssic0\", \"SSIC\"], [\"sh10\", \"Shareholder\"], [\"cp10\", \"CorpPass\"], [\"app10\", \"Sales Manager\"]], \"add0\": [[\"en6\", \"Address\"]], \"cp2\": [[\"en6\", \"CorpPass\"], [\"cp4\", \"CorpPass\"]], \"cp11\": [[\"cp0\", \"CorpPass\"]], \"cp3\": [[\"cp2\", \"CorpPass\"], [\"cp20\", \"CorpPass\"]], \"sh0\": [[\"sh2\", \"Shareholder\"]], \"sh2\": [[\"sh1\", \"Shareholder\"]], \"en1\": [[\"sh1\", \"Shareholder\"], [\"cp16\", \"CorpPass\"], [\"cp1\", \"CorpPass\"], [\"sh20\", \"Shareholder\"], [\"app1\", \"Finance Manager\"], [\"ssic15\", \"SSIC\"], [\"ssic1\", \"SSIC\"], [\"add1\", \"Address\"], [\"ssic6\", \"SSIC\"]], \"add1\": [[\"add18\", \"Address\"]], \"sh12\": [[\"sh15\", \"Shareholder\"]]}\n",
      "\n",
      "\n",
      "Avg Shortest Path runtime:  0.007331975301106771\n",
      "['en5', 'cp0', 'cp2', 'en6', 'sh17', 'sh0', 'sh2']\n"
     ]
    }
   ],
   "source": [
    "##MAIN                \n",
    "# Create a graph given in \n",
    "# the above diagram\n",
    "\n",
    "### Select the respective default values ###\n",
    "num_iter = 30\n",
    "depth = 10\n",
    "node = 'en5' \n",
    "\n",
    "list_timings = []\n",
    "for i in range(num_iter):\n",
    "    start_depth = time.time()\n",
    "    g = Graph() \n",
    "    g1 = g.filter(g, {'Shareholder' : [], 'Appointment': [], 'Address': [], 'SSIC': [], 'CorpPass': []}) ##key in the attributes to filter() to make the new graph\n",
    "#     g1 = g.filter(g, {'Shareholder' : ['sh2'],'Appointment': ['Deputy Director'],'Address': ['add1'], 'SSIC': ['ssic1'], 'CorpPass': ['cp5']}) \n",
    "#     g1 = g.filter(g, {'Appointment': ['Deputy Director'], 'Shareholder' : []}) ##key in the attributes to filter() to make the new graph\n",
    "\n",
    "    # Depth Search\n",
    "    g1.depth(node, depth)\n",
    "    end_depth = time.time()\n",
    "    runtime = end_depth - start_depth\n",
    "    list_timings.append(runtime)\n",
    "print('Avg Depth Search runtime: ', sum(list_timings)/len(list_timings))\n",
    "print(json.dumps(g1.depth(node, depth), cls=SetEncoder))\n",
    "\n",
    "print('\\n')\n",
    "\n",
    "list_timings = []\n",
    "g = Graph()\n",
    "for i in range(num_iter):\n",
    "    start_sp = time.time()\n",
    "    \n",
    "    g2 = g.filter(g, {'Shareholder' : [], 'Appointment': [], 'Address': [], 'SSIC': [], 'CorpPass': []}) ##key in the attributes to filter() to make the new graph\n",
    "#     g2 = g.filter(g, {'Shareholder' : ['sh2'],'Appointment': ['Deputy Director'],'Address': ['add1'], 'SSIC': ['ssic1'], 'CorpPass': ['cp5']}) \n",
    "#     g2 = g.filter(g, {'Appointment': ['Deputy Director'], 'Shareholder' : []}) ##key in the attributes to filter() to make the new graph\n",
    "\n",
    "    g2.shortestPath('en5', 'sh2') #'en6','sh2'\n",
    "    end_sp = time.time()\n",
    "    runtime = end_sp - start_sp\n",
    "    list_timings.append(runtime)\n",
    "print('Avg Shortest Path runtime: ', sum(list_timings)/len(list_timings))\n",
    "print(g2.shortestPath('en5', 'sh2'))"
   ]
  },
  {
   "cell_type": "markdown",
   "metadata": {},
   "source": [
    "# Plot of Network Graphs"
   ]
  },
  {
   "cell_type": "code",
   "execution_count": 75,
   "metadata": {
    "scrolled": true
   },
   "outputs": [],
   "source": [
    "import networkx as nx\n",
    "import matplotlib.pyplot as plt\n",
    "\n",
    "def generate_graph(set_of_nodes):\n",
    "    G = nx.Graph()\n",
    "    dict_of_nodes = dict(set_of_nodes)\n",
    "#     dict_of_nodes = {'en1': ['sh1', 'sh2', 'sh3'],\n",
    "#                     'en2': ['sh4', 'sh5']}\n",
    "    \n",
    "    for n, neighbours in dict_of_nodes.items():\n",
    "        print(n)\n",
    "        neighbours = list(neighbours)\n",
    "        G.add_node(n)\n",
    "        for idx in range(0, len(neighbours)):\n",
    "            print (neighbours[idx], end = \" \") \n",
    "            G.add_node(neighbours[idx])\n",
    "            G.add_node(neighbours[idx])\n",
    "            G.add_edge(n, neighbours[idx])\n",
    "        print('\\n')\n",
    "        \n",
    "    nx.draw_spectral(G, with_labels=True, node_size=1000)\n",
    "    plt.show()\n",
    "\n",
    "    return G"
   ]
  },
  {
   "cell_type": "code",
   "execution_count": 60,
   "metadata": {
    "scrolled": true
   },
   "outputs": [],
   "source": [
    "# g = Graph()\n",
    "# g.filter(g, 'Shareholder', 'Appointment')\n",
    "# G = generate_graph(g.depth('en5', 2, {}))\n",
    "g_test = Graph()\n",
    "g_test.filter(g_test, {'Shareholder' : [], 'Appointment': []})\n",
    "G = g_test.depth('en5', 2, {})"
   ]
  },
  {
   "cell_type": "code",
   "execution_count": 61,
   "metadata": {},
   "outputs": [
    {
     "ename": "AttributeError",
     "evalue": "'dict' object has no attribute 'edges'",
     "output_type": "error",
     "traceback": [
      "\u001b[1;31m---------------------------------------------------------------------------\u001b[0m",
      "\u001b[1;31mAttributeError\u001b[0m                            Traceback (most recent call last)",
      "\u001b[1;32m<ipython-input-61-0003e0a6c9e6>\u001b[0m in \u001b[0;36m<module>\u001b[1;34m\u001b[0m\n\u001b[0;32m      1\u001b[0m \u001b[0mpos\u001b[0m \u001b[1;33m=\u001b[0m \u001b[0mnx\u001b[0m\u001b[1;33m.\u001b[0m\u001b[0mspring_layout\u001b[0m\u001b[1;33m(\u001b[0m\u001b[0mG\u001b[0m\u001b[1;33m,\u001b[0m \u001b[0mk\u001b[0m\u001b[1;33m=\u001b[0m\u001b[1;36m3\u001b[0m\u001b[1;33m,\u001b[0m\u001b[0miterations\u001b[0m\u001b[1;33m=\u001b[0m\u001b[1;36m280\u001b[0m\u001b[1;33m)\u001b[0m\u001b[1;33m\u001b[0m\u001b[1;33m\u001b[0m\u001b[0m\n\u001b[1;32m----> 2\u001b[1;33m \u001b[0mnx\u001b[0m\u001b[1;33m.\u001b[0m\u001b[0mdraw\u001b[0m\u001b[1;33m(\u001b[0m\u001b[0mG\u001b[0m\u001b[1;33m,\u001b[0m \u001b[0mpos\u001b[0m\u001b[1;33m,\u001b[0m \u001b[0mwith_labels\u001b[0m\u001b[1;33m=\u001b[0m\u001b[1;32mTrue\u001b[0m\u001b[1;33m,\u001b[0m \u001b[0mnode_size\u001b[0m\u001b[1;33m=\u001b[0m\u001b[1;36m800\u001b[0m\u001b[1;33m)\u001b[0m\u001b[1;33m\u001b[0m\u001b[1;33m\u001b[0m\u001b[0m\n\u001b[0m\u001b[0;32m      3\u001b[0m \u001b[1;33m\u001b[0m\u001b[0m\n\u001b[0;32m      4\u001b[0m \u001b[0mplt\u001b[0m\u001b[1;33m.\u001b[0m\u001b[0mshow\u001b[0m\u001b[1;33m(\u001b[0m\u001b[1;33m)\u001b[0m\u001b[1;33m\u001b[0m\u001b[1;33m\u001b[0m\u001b[0m\n",
      "\u001b[1;32m~\\Anaconda3\\lib\\site-packages\\networkx\\drawing\\nx_pylab.py\u001b[0m in \u001b[0;36mdraw\u001b[1;34m(G, pos, ax, **kwds)\u001b[0m\n\u001b[0;32m    124\u001b[0m \u001b[1;33m\u001b[0m\u001b[0m\n\u001b[0;32m    125\u001b[0m     \u001b[1;32mtry\u001b[0m\u001b[1;33m:\u001b[0m\u001b[1;33m\u001b[0m\u001b[1;33m\u001b[0m\u001b[0m\n\u001b[1;32m--> 126\u001b[1;33m         \u001b[0mdraw_networkx\u001b[0m\u001b[1;33m(\u001b[0m\u001b[0mG\u001b[0m\u001b[1;33m,\u001b[0m \u001b[0mpos\u001b[0m\u001b[1;33m=\u001b[0m\u001b[0mpos\u001b[0m\u001b[1;33m,\u001b[0m \u001b[0max\u001b[0m\u001b[1;33m=\u001b[0m\u001b[0max\u001b[0m\u001b[1;33m,\u001b[0m \u001b[1;33m**\u001b[0m\u001b[0mkwds\u001b[0m\u001b[1;33m)\u001b[0m\u001b[1;33m\u001b[0m\u001b[1;33m\u001b[0m\u001b[0m\n\u001b[0m\u001b[0;32m    127\u001b[0m         \u001b[0max\u001b[0m\u001b[1;33m.\u001b[0m\u001b[0mset_axis_off\u001b[0m\u001b[1;33m(\u001b[0m\u001b[1;33m)\u001b[0m\u001b[1;33m\u001b[0m\u001b[1;33m\u001b[0m\u001b[0m\n\u001b[0;32m    128\u001b[0m         \u001b[0mplt\u001b[0m\u001b[1;33m.\u001b[0m\u001b[0mdraw_if_interactive\u001b[0m\u001b[1;33m(\u001b[0m\u001b[1;33m)\u001b[0m\u001b[1;33m\u001b[0m\u001b[1;33m\u001b[0m\u001b[0m\n",
      "\u001b[1;32m~\\Anaconda3\\lib\\site-packages\\networkx\\drawing\\nx_pylab.py\u001b[0m in \u001b[0;36mdraw_networkx\u001b[1;34m(G, pos, arrows, with_labels, **kwds)\u001b[0m\n\u001b[0;32m    276\u001b[0m \u001b[1;33m\u001b[0m\u001b[0m\n\u001b[0;32m    277\u001b[0m     \u001b[0mnode_collection\u001b[0m \u001b[1;33m=\u001b[0m \u001b[0mdraw_networkx_nodes\u001b[0m\u001b[1;33m(\u001b[0m\u001b[0mG\u001b[0m\u001b[1;33m,\u001b[0m \u001b[0mpos\u001b[0m\u001b[1;33m,\u001b[0m \u001b[1;33m**\u001b[0m\u001b[0mkwds\u001b[0m\u001b[1;33m)\u001b[0m\u001b[1;33m\u001b[0m\u001b[1;33m\u001b[0m\u001b[0m\n\u001b[1;32m--> 278\u001b[1;33m     \u001b[0medge_collection\u001b[0m \u001b[1;33m=\u001b[0m \u001b[0mdraw_networkx_edges\u001b[0m\u001b[1;33m(\u001b[0m\u001b[0mG\u001b[0m\u001b[1;33m,\u001b[0m \u001b[0mpos\u001b[0m\u001b[1;33m,\u001b[0m \u001b[0marrows\u001b[0m\u001b[1;33m=\u001b[0m\u001b[0marrows\u001b[0m\u001b[1;33m,\u001b[0m \u001b[1;33m**\u001b[0m\u001b[0mkwds\u001b[0m\u001b[1;33m)\u001b[0m\u001b[1;33m\u001b[0m\u001b[1;33m\u001b[0m\u001b[0m\n\u001b[0m\u001b[0;32m    279\u001b[0m     \u001b[1;32mif\u001b[0m \u001b[0mwith_labels\u001b[0m\u001b[1;33m:\u001b[0m\u001b[1;33m\u001b[0m\u001b[1;33m\u001b[0m\u001b[0m\n\u001b[0;32m    280\u001b[0m         \u001b[0mdraw_networkx_labels\u001b[0m\u001b[1;33m(\u001b[0m\u001b[0mG\u001b[0m\u001b[1;33m,\u001b[0m \u001b[0mpos\u001b[0m\u001b[1;33m,\u001b[0m \u001b[1;33m**\u001b[0m\u001b[0mkwds\u001b[0m\u001b[1;33m)\u001b[0m\u001b[1;33m\u001b[0m\u001b[1;33m\u001b[0m\u001b[0m\n",
      "\u001b[1;32m~\\Anaconda3\\lib\\site-packages\\networkx\\drawing\\nx_pylab.py\u001b[0m in \u001b[0;36mdraw_networkx_edges\u001b[1;34m(G, pos, edgelist, width, edge_color, style, alpha, arrowstyle, arrowsize, edge_cmap, edge_vmin, edge_vmax, ax, arrows, label, node_size, nodelist, node_shape, **kwds)\u001b[0m\n\u001b[0;32m    550\u001b[0m \u001b[1;33m\u001b[0m\u001b[0m\n\u001b[0;32m    551\u001b[0m     \u001b[1;32mif\u001b[0m \u001b[0medgelist\u001b[0m \u001b[1;32mis\u001b[0m \u001b[1;32mNone\u001b[0m\u001b[1;33m:\u001b[0m\u001b[1;33m\u001b[0m\u001b[1;33m\u001b[0m\u001b[0m\n\u001b[1;32m--> 552\u001b[1;33m         \u001b[0medgelist\u001b[0m \u001b[1;33m=\u001b[0m \u001b[0mlist\u001b[0m\u001b[1;33m(\u001b[0m\u001b[0mG\u001b[0m\u001b[1;33m.\u001b[0m\u001b[0medges\u001b[0m\u001b[1;33m(\u001b[0m\u001b[1;33m)\u001b[0m\u001b[1;33m)\u001b[0m\u001b[1;33m\u001b[0m\u001b[1;33m\u001b[0m\u001b[0m\n\u001b[0m\u001b[0;32m    553\u001b[0m \u001b[1;33m\u001b[0m\u001b[0m\n\u001b[0;32m    554\u001b[0m     \u001b[1;32mif\u001b[0m \u001b[1;32mnot\u001b[0m \u001b[0medgelist\u001b[0m \u001b[1;32mor\u001b[0m \u001b[0mlen\u001b[0m\u001b[1;33m(\u001b[0m\u001b[0medgelist\u001b[0m\u001b[1;33m)\u001b[0m \u001b[1;33m==\u001b[0m \u001b[1;36m0\u001b[0m\u001b[1;33m:\u001b[0m  \u001b[1;31m# no edges!\u001b[0m\u001b[1;33m\u001b[0m\u001b[1;33m\u001b[0m\u001b[0m\n",
      "\u001b[1;31mAttributeError\u001b[0m: 'dict' object has no attribute 'edges'"
     ]
    },
    {
     "data": {
      "image/png": "[encoded data removed]",
      "text/plain": [
       "<Figure size 432x288 with 1 Axes>"
      ]
     },
     "metadata": {},
     "output_type": "display_data"
    }
   ],
   "source": [
    "pos = nx.spring_layout(G, k=3,iterations=280)\n",
    "nx.draw(G, pos, with_labels=True, node_size=800)\n",
    "\n",
    "plt.show()"
   ]
  }
 ],
 "metadata": {
  "kernelspec": {
   "display_name": "Python 3",
   "language": "python",
   "name": "python3"
  },
  "language_info": {
   "codemirror_mode": {
    "name": "ipython",
    "version": 3
   },
   "file_extension": ".py",
   "mimetype": "text/x-python",
   "name": "python",
   "nbconvert_exporter": "python",
   "pygments_lexer": "ipython3",
   "version": "3.7.4"
  }
 },
 "nbformat": 4,
 "nbformat_minor": 2
}
