{
 "cells": [
  {
   "cell_type": "markdown",
   "metadata": {},
   "source": [
    "# Reading datasets"
   ]
  },
  {
   "cell_type": "code",
   "execution_count": 1,
   "metadata": {},
   "outputs": [],
   "source": [
    "import pandas as pd\n",
    "from collections import defaultdict \n",
    "import os, time, json\n",
    "dirs = os.listdir('./Sample Datasets')\n",
    "\n",
    "SSIC_TABLE = pd.read_excel(\"./Sample Datasets/primary ssic sample data.xlsx\")\n",
    "SHAREHOLDER_TABLE = pd.read_excel(\"./Sample Datasets/shareholder sample data.xlsx\")\n",
    "APPOINTMENT_TABLE = pd.read_excel(\"./Sample Datasets/appointment sample data.xlsx\")\n",
    "CORPPASS_TABLE = pd.read_excel(\"./Sample Datasets/corppass sample data.xlsx\")\n",
    "ADDRESS_TABLE = pd.read_excel(\"./Sample Datasets/address sample data.xlsx\")\n",
    "\n",
    "TABLE_NAMES_DICT = {\"SSIC\": SSIC_TABLE,\n",
    "                    \"Shareholder\" : SHAREHOLDER_TABLE,\n",
    "                    \"Appointment\" : APPOINTMENT_TABLE,\n",
    "                    \"CorpPass\": CORPPASS_TABLE,\n",
    "                    \"Address\": ADDRESS_TABLE}\n",
    "\n",
    "RS_NAMES_DICT = {\"SSIC\": \"Primary SSIC\",\n",
    "                    \"Shareholder\" : \"Shareholder UEN\",\n",
    "                    \"Appointment\" : \"Appointment Name\",\n",
    "                    \"CorpPass\": \"CorpPass\",\n",
    "                    \"Address\": \"Address\"}\n"
   ]
  },
  {
   "cell_type": "markdown",
   "metadata": {},
   "source": [
    "# Class Definitions"
   ]
  },
  {
   "cell_type": "code",
   "execution_count": 53,
   "metadata": {},
   "outputs": [],
   "source": [
    "#################### WORKING WITH TUPLE ####################\n",
    "# This class represents a directed graph \n",
    "# using adjacency list representation \n",
    "\n",
    "class Graph: \n",
    "    # Constructor \n",
    "    def __init__(self): \n",
    "\n",
    "        # default dictionary to store graph \n",
    "        self.graph = defaultdict(list) \n",
    "        self.immediateNeigh = defaultdict(set)\n",
    "\n",
    "    # function to add an edge to graph only if node is not null\n",
    "    def addEdge(self,u, v, rs): \n",
    "        bidir = False\n",
    "        if str(u) != 'nan' and str(v) != 'nan':\n",
    "            if bidir: # bidirectional\n",
    "                self.graph[u].append((v, rs)) \n",
    "                self.graph[v].append((u, rs)) \n",
    "                self.immediateNeigh[u].add((v, rs))\n",
    "                self.immediateNeigh[v].add((u, rs))\n",
    "            else: # unidirectional\n",
    "                self.graph[u].append((v, rs)) \n",
    "                self.immediateNeigh[u].add((v, rs))\n",
    "        \n",
    "    # Function to print a SSSP \n",
    "    def shortestPath(self, u, v): \n",
    "        \n",
    "        # Mark all the vertices as not visited \n",
    "        visited = set()\n",
    "\n",
    "        # Create a queue for BFS \n",
    "        queue = [] \n",
    "\n",
    "        # Mark the source node as \n",
    "        # visited and enqueue it \n",
    "        queue.append(u)\n",
    "        visited.add(u)\n",
    "        predecessor_dic = {}\n",
    "        #predecessor of source is none\n",
    "        predecessor_dic[u] = -1\n",
    "\n",
    "        while queue: \n",
    "            # Dequeue a vertex from \n",
    "            # queue and print it \n",
    "            u = queue.pop(0) \n",
    "\n",
    "            # Get all adjacent vertices of the \n",
    "            # dequeued vertex s. If a adjacent \n",
    "            # has not been visited, then mark it \n",
    "            # visited and enqueue it \n",
    "            for i in self.immediateNeigh[u]: \n",
    "                i = i[0]\n",
    "                if i not in visited: \n",
    "                    queue.append(i) \n",
    "                    visited.add(i)\n",
    "                    predecessor_dic[i] = u\n",
    "        if v in visited:\n",
    "            #trace path\n",
    "            return self.backtrack(v, predecessor_dic)\n",
    "            \n",
    "    def backtrack(self, v, predecessor_dic):\n",
    "        if v == -1:\n",
    "            return\n",
    "        tmp = self.backtrack(predecessor_dic[v], predecessor_dic)\n",
    "        return tmp + ' ' + v if tmp else v\n",
    "            \n",
    "    def depth(self, u, d, s={}): \n",
    "        #to find neighbours in depth of len(s) and less\n",
    "        neighbours = self.immediateNeigh[u]\n",
    "        visited = set()\n",
    "        \n",
    "        if u not in visited:\n",
    "            \n",
    "            if (d == 1) and neighbours:\n",
    "                s[u] = neighbours\n",
    "\n",
    "            elif neighbours:\n",
    "                s[u] = set()\n",
    "                for y in neighbours:\n",
    "                    s[u].add(y)\n",
    "\n",
    "                    for k,v in self.depth(y[0], d-1, s).items():\n",
    "                        if not v:\n",
    "                            continue\n",
    "\n",
    "                        elif k in s.keys():\n",
    "                            for item in v:\n",
    "                                s[k].add(item)\n",
    "                        else:\n",
    "                            s[k] = set(v)\n",
    "            visited.add(u)\n",
    "\n",
    "        return s\n",
    "    \n",
    "    def filter(self, g, filter_dic):\n",
    "        flag = 0\n",
    "        \n",
    "        #filtering process to those field that are wanted and add edges to graph\n",
    "        if not all(value == [] for value in filter_dic.values()): # check if filter_dic values are not empty\n",
    "            \n",
    "            for colname, col_values in filter_dic.items(): # filter_dic example: {'Shareholder': ['sh1', 'sh2'], 'Appointment': ['app1']}\n",
    "                df = TABLE_NAMES_DICT[colname]\n",
    "                \n",
    "                for col_value in col_values: # for each filtering value\n",
    "                    filtered_df = df[df[RS_NAMES_DICT[colname]] == col_value] if colname.lower() != 'appointment' else df[df[\"Appointment Name\"] == col_value]\n",
    "                    \n",
    "                    if not dict(filtered_df): # Checks if subset of table is empty and ignores it\n",
    "                        continue \n",
    "                        \n",
    "                    if colname.lower() != 'appointment':\n",
    "                        filtered_df.apply(lambda x: g.addEdge(x[\"Entity UEN\"], x[RS_NAMES_DICT[colname]], colname), axis=1)\n",
    "                    else:\n",
    "                        filtered_df.apply(lambda x: g.addEdge(x[\"Entity UEN\"], x['Appointment UEN'], x[RS_NAMES_DICT[colname]]), axis=1)\n",
    "                \n",
    "        else: # if no filter is selected\n",
    "            \n",
    "            for colname in filter_dic.keys(): # filter_dic example: {'Shareholder': [], 'Appointment': []}\n",
    "#                 print(\"Column Name: \", colname)                \n",
    "                filtered_df = TABLE_NAMES_DICT[colname]\n",
    "                \n",
    "                if colname.lower() != 'appointment':\n",
    "                    filtered_df.apply(lambda x: g.addEdge(x[\"Entity UEN\"], x[RS_NAMES_DICT[colname]], colname), axis=1)\n",
    "                else:\n",
    "                    filtered_df.apply(lambda x: g.addEdge(x[\"Entity UEN\"], x['Appointment UEN'], x[RS_NAMES_DICT[colname]]), axis=1)\n",
    "        return g"
   ]
  },
  {
   "cell_type": "markdown",
   "metadata": {},
   "source": [
    "# Runtime Measurements"
   ]
  },
  {
   "cell_type": "code",
   "execution_count": 54,
   "metadata": {},
   "outputs": [],
   "source": [
    "class SetEncoder(json.JSONEncoder):\n",
    "    def default(self, obj):\n",
    "        if isinstance(obj, set):\n",
    "            return list(obj)\n",
    "        return json.JSONEncoder.default(self, obj)"
   ]
  },
  {
   "cell_type": "code",
   "execution_count": 198,
   "metadata": {
    "scrolled": true
   },
   "outputs": [
    {
     "name": "stdout",
     "output_type": "stream",
     "text": [
      "Avg Depth Search runtime:  0.00654911200205485\n",
      "{\"en5\": [[1, \"Address\"], [\"cp5\", \"CorpPass\"], [\"sh2\", \"Shareholder\"], [1001, \"SSIC\"], [\"app5\", \"Deputy Director\"]], \"sh5\": [[1007, \"SSIC\"], [\"cp11\", \"CorpPass\"], [\"sh6\", \"Shareholder\"], [11, \"Address\"]], \"sh6\": [[\"cp13\", \"CorpPass\"], [13, \"Address\"], [1009, \"SSIC\"], [\"en5\", \"Shareholder\"]], \"sh2\": [[8, \"Address\"], [1008, \"SSIC\"], [\"cp10\", \"CorpPass\"], [\"en2\", \"Shareholder\"], [15, \"Address\"], [\"cp8\", \"CorpPass\"], [\"cp12\", \"CorpPass\"], [1004, \"SSIC\"]], \"en2\": [[\"sh2\", \"Shareholder\"], [\"app2\", \"Tech Lead\"]], \"en6\": [[\"cp2\", \"CorpPass\"], [1001, \"SSIC\"], [\"sh3\", \"Shareholder\"], [2, \"Address\"], [\"sh6\", \"Shareholder\"]], \"sh3\": [[14, \"Address\"], [\"cp9\", \"CorpPass\"], [\"sh4\", \"Shareholder\"], [1010, \"SSIC\"], [9, \"Address\"], [1005, \"SSIC\"]], \"sh4\": [[1006, \"SSIC\"], [10, \"Address\"], [1012, \"SSIC\"], [16, \"Address\"], [\"cp16\", \"CorpPass\"]], \"en4\": [[\"app4\", \"Deputy Director\"]]}\n",
      "\n",
      "\n",
      "Avg Shortest Path runtime:  0.004720942179361979\n",
      "en6 sh6 en5 sh2\n"
     ]
    }
   ],
   "source": [
    "##MAIN                \n",
    "# Create a graph given in \n",
    "# the above diagram\n",
    "\n",
    "num_iter = 30\n",
    "depth = 1\n",
    "node = 'en5' \n",
    "\n",
    "list_timings = []\n",
    "g = Graph() \n",
    "for i in range(num_iter):\n",
    "    start_depth = time.time()\n",
    "#     g1 = g.filter(g, {'Shareholder' : [], 'Appointment': [], 'Address': [], 'SSIC': [], 'CorpPass': []}) ##key in the attributes to filter() to make the new graph\n",
    "    g1 = g.filter(g, {'Shareholder' : ['sh2'],'Appointment': ['Deputy Director'],'Address': [1], 'SSIC': [1001], 'CorpPass': ['cp5']}) \n",
    "#     g1 = g.filter(g, {'Appointment': ['Deputy Director'], 'Shareholder' : []}) ##key in the attributes to filter() to make the new graph\n",
    "\n",
    "    # Depth Search\n",
    "    g1.depth(node, depth)\n",
    "    end_depth = time.time()\n",
    "    runtime = end_depth - start_depth\n",
    "    list_timings.append(runtime)\n",
    "print('Avg Depth Search runtime: ', sum(list_timings)/len(list_timings))\n",
    "print(json.dumps(g1.depth(node, depth), cls=SetEncoder))\n",
    "\n",
    "print('\\n')\n",
    "\n",
    "list_timings = []\n",
    "g = Graph()\n",
    "for i in range(num_iter):\n",
    "    start_sp = time.time()\n",
    "    \n",
    "    g2 = g.filter(g, {'Shareholder' : [], 'Appointment': [], 'Address': [], 'SSIC': [], 'CorpPass': []}) ##key in the attributes to filter() to make the new graph\n",
    "#     g2 = g.filter(g, {'Shareholder' : ['sh2'],'Appointment': ['Deputy Director'],'Address': [1], 'SSIC': [1001], 'CorpPass': ['cp5']}) \n",
    "#     g2 = g.filter(g, {'Appointment': ['Deputy Director'], 'Shareholder' : []}) ##key in the attributes to filter() to make the new graph\n",
    "\n",
    "    g2.shortestPath('en6', 'sh2') #'en6','sh2'\n",
    "    end_sp = time.time()\n",
    "    runtime = end_sp - start_sp\n",
    "    list_timings.append(runtime)\n",
    "print('Avg Shortest Path runtime: ', sum(list_timings)/len(list_timings))\n",
    "print(g2.shortestPath('en6', 'sh2'))"
   ]
  },
  {
   "cell_type": "code",
   "execution_count": 199,
   "metadata": {
    "scrolled": true
   },
   "outputs": [
    {
     "name": "stdout",
     "output_type": "stream",
     "text": [
      "{'en1': {('sh1', 'Shareholder'), ('app1', 'Director')}, 'en10': {('app10', 'HR Manager'), ('sh10', 'Shareholder')}, 'en2': {('sh2', 'Shareholder'), ('app2', 'Tech Lead')}, 'en3': {('app3', 'Finance Manager'), ('sh3', 'Shareholder')}, 'en4': {('sh4', 'Shareholder'), ('app4', 'Deputy Director')}, 'en5': {(1, 'Address'), ('sh5', 'Shareholder'), ('cp1', 'CorpPass'), ('cp5', 'CorpPass'), ('sh2', 'Shareholder'), (1001, 'SSIC'), ('app5', 'Deputy Director')}, 'en6': {(1001, 'SSIC'), ('cp2', 'CorpPass'), ('sh3', 'Shareholder'), (2, 'Address'), ('sh6', 'Shareholder')}, 'en7': {('cp3', 'CorpPass'), (1, 'Address'), ('cp14', 'CorpPass'), (1001, 'SSIC'), ('sh7', 'Shareholder'), ('sh4', 'Shareholder')}, 'en8': {('cp4', 'CorpPass'), (4, 'Address'), ('sh8', 'Shareholder'), (1002, 'SSIC')}, 'en9': {('sh9', 'Shareholder'), (1003, 'SSIC'), (10, 'Address')}, 'sh1': {('cp17', 'CorpPass'), (6, 'Address'), (1004, 'SSIC'), ('en1', 'Shareholder'), ('cp6', 'CorpPass')}, 'sh2': {(8, 'Address'), (1008, 'SSIC'), ('cp10', 'CorpPass'), ('en2', 'Shareholder'), (15, 'Address'), ('cp8', 'CorpPass'), ('cp12', 'CorpPass'), (1004, 'SSIC')}, 'sh3': {(14, 'Address'), ('cp9', 'CorpPass'), ('sh4', 'Shareholder'), (1010, 'SSIC'), (9, 'Address'), (1005, 'SSIC')}, 'sh5': {(1007, 'SSIC'), ('cp11', 'CorpPass'), ('sh6', 'Shareholder'), (11, 'Address')}, 'sh6': {('cp13', 'CorpPass'), (13, 'Address'), (1009, 'SSIC'), ('en5', 'Shareholder')}, 'sh10': {('cp7', 'CorpPass'), (1004, 'SSIC'), (7, 'Address')}, 'sh4': {(1006, 'SSIC'), (10, 'Address'), (1012, 'SSIC'), (16, 'Address'), ('cp16', 'CorpPass')}, 'sh7': {(13, 'Address'), ('cp15', 'CorpPass'), (1011, 'SSIC')}, 'sh8': {(17, 'Address'), (1013, 'SSIC')}, 'sh9': {(1014, 'SSIC'), ('cp18', 'CorpPass'), (2, 'Address')}, 1001: set(), 'cp2': set(), 2: set(), 14: set(), 'cp9': set(), 1010: set(), 9: set(), 1005: set(), 'cp13': set(), 13: set(), 1009: set(), 1006: set(), 10: set(), 1012: set(), 16: set(), 'cp16': set(), 1: set(), 'cp1': set(), 'cp5': set(), 'app5': set(), 1007: set(), 'cp11': set(), 11: set(), 8: set(), 1008: set(), 'cp10': set(), 15: set(), 'cp8': set(), 'cp12': set(), 1004: set(), 'app2': set()}\n"
     ]
    }
   ],
   "source": [
    "print(dict(g.immediateNeigh))"
   ]
  },
  {
   "cell_type": "markdown",
   "metadata": {},
   "source": [
    "# Plot of Network Graphs"
   ]
  },
  {
   "cell_type": "code",
   "execution_count": 6,
   "metadata": {
    "scrolled": true
   },
   "outputs": [],
   "source": [
    "import networkx as nx\n",
    "import matplotlib.pyplot as plt\n",
    "\n",
    "def generate_graph(set_of_nodes):\n",
    "    G = nx.Graph()\n",
    "    dict_of_nodes = dict(set_of_nodes)\n",
    "#     dict_of_nodes = {'en1': ['sh1', 'sh2', 'sh3'],\n",
    "#                     'en2': ['sh4', 'sh5']}\n",
    "    \n",
    "    for n, neighbours in dict_of_nodes.items():\n",
    "        print(n)\n",
    "        neighbours = list(neighbours)\n",
    "        G.add_node(n)\n",
    "        for idx in range(0, len(neighbours)):\n",
    "            print (neighbours[idx], end = \" \") \n",
    "            G.add_node(neighbours[idx])\n",
    "            G.add_node(neighbours[idx])\n",
    "            G.add_edge(n, neighbours[idx])\n",
    "        print('\\n')\n",
    "        \n",
    "    nx.draw_spectral(G, with_labels=True, node_size=1000)\n",
    "    plt.show()\n",
    "\n",
    "    return G"
   ]
  },
  {
   "cell_type": "code",
   "execution_count": 7,
   "metadata": {
    "scrolled": true
   },
   "outputs": [],
   "source": [
    "# g = Graph()\n",
    "# g.filter(g, 'Shareholder', 'Appointment')\n",
    "# G = generate_graph(g.depth('en5', 2, {}))\n",
    "g_test = Graph()\n",
    "g_test.filter(g_test, {'Shareholder' : [], 'Appointment': []})\n",
    "G = g_test.depth('en5', 2, {})"
   ]
  },
  {
   "cell_type": "code",
   "execution_count": 8,
   "metadata": {},
   "outputs": [
    {
     "ename": "AttributeError",
     "evalue": "'dict' object has no attribute 'edges'",
     "output_type": "error",
     "traceback": [
      "\u001b[1;31m---------------------------------------------------------------------------\u001b[0m",
      "\u001b[1;31mAttributeError\u001b[0m                            Traceback (most recent call last)",
      "\u001b[1;32m<ipython-input-8-0003e0a6c9e6>\u001b[0m in \u001b[0;36m<module>\u001b[1;34m\u001b[0m\n\u001b[0;32m      1\u001b[0m \u001b[0mpos\u001b[0m \u001b[1;33m=\u001b[0m \u001b[0mnx\u001b[0m\u001b[1;33m.\u001b[0m\u001b[0mspring_layout\u001b[0m\u001b[1;33m(\u001b[0m\u001b[0mG\u001b[0m\u001b[1;33m,\u001b[0m \u001b[0mk\u001b[0m\u001b[1;33m=\u001b[0m\u001b[1;36m3\u001b[0m\u001b[1;33m,\u001b[0m\u001b[0miterations\u001b[0m\u001b[1;33m=\u001b[0m\u001b[1;36m280\u001b[0m\u001b[1;33m)\u001b[0m\u001b[1;33m\u001b[0m\u001b[1;33m\u001b[0m\u001b[0m\n\u001b[1;32m----> 2\u001b[1;33m \u001b[0mnx\u001b[0m\u001b[1;33m.\u001b[0m\u001b[0mdraw\u001b[0m\u001b[1;33m(\u001b[0m\u001b[0mG\u001b[0m\u001b[1;33m,\u001b[0m \u001b[0mpos\u001b[0m\u001b[1;33m,\u001b[0m \u001b[0mwith_labels\u001b[0m\u001b[1;33m=\u001b[0m\u001b[1;32mTrue\u001b[0m\u001b[1;33m,\u001b[0m \u001b[0mnode_size\u001b[0m\u001b[1;33m=\u001b[0m\u001b[1;36m800\u001b[0m\u001b[1;33m)\u001b[0m\u001b[1;33m\u001b[0m\u001b[1;33m\u001b[0m\u001b[0m\n\u001b[0m\u001b[0;32m      3\u001b[0m \u001b[1;33m\u001b[0m\u001b[0m\n\u001b[0;32m      4\u001b[0m \u001b[0mplt\u001b[0m\u001b[1;33m.\u001b[0m\u001b[0mshow\u001b[0m\u001b[1;33m(\u001b[0m\u001b[1;33m)\u001b[0m\u001b[1;33m\u001b[0m\u001b[1;33m\u001b[0m\u001b[0m\n",
      "\u001b[1;32m~\\Anaconda3\\lib\\site-packages\\networkx\\drawing\\nx_pylab.py\u001b[0m in \u001b[0;36mdraw\u001b[1;34m(G, pos, ax, **kwds)\u001b[0m\n\u001b[0;32m    124\u001b[0m \u001b[1;33m\u001b[0m\u001b[0m\n\u001b[0;32m    125\u001b[0m     \u001b[1;32mtry\u001b[0m\u001b[1;33m:\u001b[0m\u001b[1;33m\u001b[0m\u001b[1;33m\u001b[0m\u001b[0m\n\u001b[1;32m--> 126\u001b[1;33m         \u001b[0mdraw_networkx\u001b[0m\u001b[1;33m(\u001b[0m\u001b[0mG\u001b[0m\u001b[1;33m,\u001b[0m \u001b[0mpos\u001b[0m\u001b[1;33m=\u001b[0m\u001b[0mpos\u001b[0m\u001b[1;33m,\u001b[0m \u001b[0max\u001b[0m\u001b[1;33m=\u001b[0m\u001b[0max\u001b[0m\u001b[1;33m,\u001b[0m \u001b[1;33m**\u001b[0m\u001b[0mkwds\u001b[0m\u001b[1;33m)\u001b[0m\u001b[1;33m\u001b[0m\u001b[1;33m\u001b[0m\u001b[0m\n\u001b[0m\u001b[0;32m    127\u001b[0m         \u001b[0max\u001b[0m\u001b[1;33m.\u001b[0m\u001b[0mset_axis_off\u001b[0m\u001b[1;33m(\u001b[0m\u001b[1;33m)\u001b[0m\u001b[1;33m\u001b[0m\u001b[1;33m\u001b[0m\u001b[0m\n\u001b[0;32m    128\u001b[0m         \u001b[0mplt\u001b[0m\u001b[1;33m.\u001b[0m\u001b[0mdraw_if_interactive\u001b[0m\u001b[1;33m(\u001b[0m\u001b[1;33m)\u001b[0m\u001b[1;33m\u001b[0m\u001b[1;33m\u001b[0m\u001b[0m\n",
      "\u001b[1;32m~\\Anaconda3\\lib\\site-packages\\networkx\\drawing\\nx_pylab.py\u001b[0m in \u001b[0;36mdraw_networkx\u001b[1;34m(G, pos, arrows, with_labels, **kwds)\u001b[0m\n\u001b[0;32m    276\u001b[0m \u001b[1;33m\u001b[0m\u001b[0m\n\u001b[0;32m    277\u001b[0m     \u001b[0mnode_collection\u001b[0m \u001b[1;33m=\u001b[0m \u001b[0mdraw_networkx_nodes\u001b[0m\u001b[1;33m(\u001b[0m\u001b[0mG\u001b[0m\u001b[1;33m,\u001b[0m \u001b[0mpos\u001b[0m\u001b[1;33m,\u001b[0m \u001b[1;33m**\u001b[0m\u001b[0mkwds\u001b[0m\u001b[1;33m)\u001b[0m\u001b[1;33m\u001b[0m\u001b[1;33m\u001b[0m\u001b[0m\n\u001b[1;32m--> 278\u001b[1;33m     \u001b[0medge_collection\u001b[0m \u001b[1;33m=\u001b[0m \u001b[0mdraw_networkx_edges\u001b[0m\u001b[1;33m(\u001b[0m\u001b[0mG\u001b[0m\u001b[1;33m,\u001b[0m \u001b[0mpos\u001b[0m\u001b[1;33m,\u001b[0m \u001b[0marrows\u001b[0m\u001b[1;33m=\u001b[0m\u001b[0marrows\u001b[0m\u001b[1;33m,\u001b[0m \u001b[1;33m**\u001b[0m\u001b[0mkwds\u001b[0m\u001b[1;33m)\u001b[0m\u001b[1;33m\u001b[0m\u001b[1;33m\u001b[0m\u001b[0m\n\u001b[0m\u001b[0;32m    279\u001b[0m     \u001b[1;32mif\u001b[0m \u001b[0mwith_labels\u001b[0m\u001b[1;33m:\u001b[0m\u001b[1;33m\u001b[0m\u001b[1;33m\u001b[0m\u001b[0m\n\u001b[0;32m    280\u001b[0m         \u001b[0mdraw_networkx_labels\u001b[0m\u001b[1;33m(\u001b[0m\u001b[0mG\u001b[0m\u001b[1;33m,\u001b[0m \u001b[0mpos\u001b[0m\u001b[1;33m,\u001b[0m \u001b[1;33m**\u001b[0m\u001b[0mkwds\u001b[0m\u001b[1;33m)\u001b[0m\u001b[1;33m\u001b[0m\u001b[1;33m\u001b[0m\u001b[0m\n",
      "\u001b[1;32m~\\Anaconda3\\lib\\site-packages\\networkx\\drawing\\nx_pylab.py\u001b[0m in \u001b[0;36mdraw_networkx_edges\u001b[1;34m(G, pos, edgelist, width, edge_color, style, alpha, arrowstyle, arrowsize, edge_cmap, edge_vmin, edge_vmax, ax, arrows, label, node_size, nodelist, node_shape, **kwds)\u001b[0m\n\u001b[0;32m    550\u001b[0m \u001b[1;33m\u001b[0m\u001b[0m\n\u001b[0;32m    551\u001b[0m     \u001b[1;32mif\u001b[0m \u001b[0medgelist\u001b[0m \u001b[1;32mis\u001b[0m \u001b[1;32mNone\u001b[0m\u001b[1;33m:\u001b[0m\u001b[1;33m\u001b[0m\u001b[1;33m\u001b[0m\u001b[0m\n\u001b[1;32m--> 552\u001b[1;33m         \u001b[0medgelist\u001b[0m \u001b[1;33m=\u001b[0m \u001b[0mlist\u001b[0m\u001b[1;33m(\u001b[0m\u001b[0mG\u001b[0m\u001b[1;33m.\u001b[0m\u001b[0medges\u001b[0m\u001b[1;33m(\u001b[0m\u001b[1;33m)\u001b[0m\u001b[1;33m)\u001b[0m\u001b[1;33m\u001b[0m\u001b[1;33m\u001b[0m\u001b[0m\n\u001b[0m\u001b[0;32m    553\u001b[0m \u001b[1;33m\u001b[0m\u001b[0m\n\u001b[0;32m    554\u001b[0m     \u001b[1;32mif\u001b[0m \u001b[1;32mnot\u001b[0m \u001b[0medgelist\u001b[0m \u001b[1;32mor\u001b[0m \u001b[0mlen\u001b[0m\u001b[1;33m(\u001b[0m\u001b[0medgelist\u001b[0m\u001b[1;33m)\u001b[0m \u001b[1;33m==\u001b[0m \u001b[1;36m0\u001b[0m\u001b[1;33m:\u001b[0m  \u001b[1;31m# no edges!\u001b[0m\u001b[1;33m\u001b[0m\u001b[1;33m\u001b[0m\u001b[0m\n",
      "\u001b[1;31mAttributeError\u001b[0m: 'dict' object has no attribute 'edges'"
     ]
    },
    {
     "data": {
      "image/png": "[encoded data removed]",
      "text/plain": [
       "<Figure size 432x288 with 1 Axes>"
      ]
     },
     "metadata": {},
     "output_type": "display_data"
    }
   ],
   "source": [
    "pos = nx.spring_layout(G, k=3,iterations=280)\n",
    "nx.draw(G, pos, with_labels=True, node_size=800)\n",
    "\n",
    "plt.show()"
   ]
  }
 ],
 "metadata": {
  "kernelspec": {
   "display_name": "Python 3",
   "language": "python",
   "name": "python3"
  },
  "language_info": {
   "codemirror_mode": {
    "name": "ipython",
    "version": 3
   },
   "file_extension": ".py",
   "mimetype": "text/x-python",
   "name": "python",
   "nbconvert_exporter": "python",
   "pygments_lexer": "ipython3",
   "version": "3.7.3"
  }
 },
 "nbformat": 4,
 "nbformat_minor": 2
}
