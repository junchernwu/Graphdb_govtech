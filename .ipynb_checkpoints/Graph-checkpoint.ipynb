{
 "cells": [
  {
   "cell_type": "code",
   "execution_count": 1,
   "metadata": {},
   "outputs": [
    {
     "data": {
      "text/plain": [
       "['appointment sample data.xlsx',\n",
       " 'primary ssic sample data.xlsx',\n",
       " 'shareholder sample data.xlsx']"
      ]
     },
     "execution_count": 1,
     "metadata": {},
     "output_type": "execute_result"
    }
   ],
   "source": [
    "import os\n",
    "dirs = os.listdir('./Sample Datasets')"
   ]
  },
  {
   "cell_type": "code",
   "execution_count": 121,
   "metadata": {},
   "outputs": [
    {
     "name": "stdout",
     "output_type": "stream",
     "text": [
      "Following is Breadth First Traversal (starting from vertex 2)\n",
      "\n",
      "\n"
     ]
    },
    {
     "data": {
      "text/plain": [
       "{'en5': {'sh2', 'sh5', 'sh6'},\n",
       " 'sh5': {'en5', 'sh6'},\n",
       " 'sh2': {'en2', 'en5'},\n",
       " 'sh6': {'en5', 'en6', 'sh5'}}"
      ]
     },
     "execution_count": 121,
     "metadata": {},
     "output_type": "execute_result"
    }
   ],
   "source": [
    "import pandas as pd\n",
    "from collections import defaultdict \n",
    "\n",
    "data = pd.read_excel(\"./Sample Datasets/shareholder sample data.xlsx\") \n",
    "df = pd.DataFrame(data, columns= ['Entity UEN','Shareholder UEN'])\n",
    "filter_dic = {\"SSIC\": \"./Sample Datasets/primary ssic sample data.xlsx\",\n",
    "             \"Shareholder\" : \"./Sample Datasets/shareholder sample data.xlsx\",\n",
    "             \"Appointment\" : \"./Sample Datasets/appointment sample data.xlsx\"}\n",
    "\n",
    "# This class represents a directed graph \n",
    "# using adjacency list representation \n",
    "class Graph: \n",
    "\n",
    "    # Constructor \n",
    "    def __init__(self): \n",
    "\n",
    "        # default dictionary to store graph \n",
    "        self.graph = defaultdict(list) \n",
    "        self.immediateNeigh = defaultdict(set)\n",
    "\n",
    "    # function to add an edge to graph \n",
    "    def addEdge(self,u,v): \n",
    "        self.graph[u].append(v) \n",
    "        self.graph[v].append(u) \n",
    "        self.immediateNeigh[u].add(v)\n",
    "        self.immediateNeigh[v].add(u)\n",
    "\n",
    "    # Function to print a BFS of graph \n",
    "    def BFS(self, s): \n",
    "\n",
    "        # Mark all the vertices as not visited \n",
    "        visited = [False] * (len(self.graph)) \n",
    "\n",
    "        # Create a queue for BFS \n",
    "        queue = [] \n",
    "\n",
    "        # Mark the source node as \n",
    "        # visited and enqueue it \n",
    "        queue.append(s) \n",
    "        visited[s] = True\n",
    "\n",
    "        while queue: \n",
    "            # Dequeue a vertex from \n",
    "            # queue and print it \n",
    "            s = queue.pop(0) \n",
    "            print (s, end = \" \")\n",
    "\n",
    "            # Get all adjacent vertices of the \n",
    "            # dequeued vertex s. If a adjacent \n",
    "            # has not been visited, then mark it \n",
    "            # visited and enqueue it \n",
    "            for i in self.graph[s]: \n",
    "                if visited[i] == False: \n",
    "                    queue.append(i) \n",
    "                    visited[i] = True\n",
    "                else:\n",
    "                    self.immediateNeigh[i].add(s)\n",
    "                    self.immediateNeigh[s].add(i)\n",
    "                    \n",
    "    def depth(self, u, d): \n",
    "        #to find neighbours in depth of s and less\n",
    "#         s = set()\n",
    "#         s.add(u)\n",
    "#         self.BFS(u)\n",
    "#         print(self.immediateNeigh)\n",
    "        s = {}\n",
    "        s[u] = set()\n",
    "        if (d == 1):\n",
    "            for i in self.immediateNeigh[u]:\n",
    "                s[u].add(i)\n",
    "                    \n",
    "#                 if i:\n",
    "#                     s.add(i)\n",
    "        else :\n",
    "        \n",
    "            for y in self.immediateNeigh[u]:\n",
    "                s[u].add(y)\n",
    "                for k,v in self.depth(y, d-1).items():\n",
    "                    if k in s.keys():\n",
    "                        s[k].add(v)\n",
    "                    else:\n",
    "                        s[k] = set(v)\n",
    "        return s\n",
    "    \n",
    "    def filter(self, g, *filters):\n",
    "        count = 0\n",
    "        \n",
    "        #merging process to those field that are wanted\n",
    "        if filters:\n",
    "            for key in filters:\n",
    "                if count == 0:\n",
    "                    result = pd.read_excel(filter_dic[key])\n",
    "                    count += 1\n",
    "                else:\n",
    "                    result = pd.merge(result,  pd.read_excel(filter_dic[key]), on = \"Entity UEN\", how = \"outer\")\n",
    "                    if key == \"SSIC\": ##ONLY KEEP THOSE SSIC required\n",
    "                        result = result[result.SSIS == 1001.0]\n",
    "        else:\n",
    "            return g\n",
    "        \n",
    "        ##to create the new edges. Add only if there is a value that isnt null\n",
    "#         print(result)\n",
    "        \n",
    "        for i in range(len(result)):\n",
    "            for col in result.columns:\n",
    "                if col != \"Entity UEN\" and str(result.loc[i,col]) != \"nan\" :\n",
    "                    g.addEdge(result.loc[i,\"Entity UEN\"], result.loc[i,col])\n",
    "        \n",
    "              \n",
    "##MAIN                \n",
    "# Create a graph given in \n",
    "# the above diagram \n",
    "g = Graph() \n",
    "g1 = g.filter(g, 'Shareholder', 'Appointment') ##key in the attributes to filter() to make the new graph\n",
    "\n",
    "\n",
    "    \n",
    "\n",
    "print (\"Following is Breadth First Traversal\"\n",
    "        \" (starting from vertex 2)\") \n",
    "#g.BFS(2) \n",
    "print(\"\\n\")\n",
    "\n",
    "# for i in g.depth(1,3):\n",
    "#     print (i, end = \" \") \n",
    "    \n",
    "g.depth('en5', 2)\n",
    "\n",
    "# for i in g.depth('en5', 1):\n",
    "#     print (i, end = \" \") "
   ]
  },
  {
   "cell_type": "code",
   "execution_count": 100,
   "metadata": {},
   "outputs": [
    {
     "data": {
      "text/plain": [
       "{'en5': set()}"
      ]
     },
     "execution_count": 100,
     "metadata": {},
     "output_type": "execute_result"
    }
   ],
   "source": [
    "dict(g.immediateNeigh)"
   ]
  },
  {
   "cell_type": "code",
   "execution_count": 111,
   "metadata": {
    "scrolled": true
   },
   "outputs": [],
   "source": [
    "import networkx as nx\n",
    "import matplotlib.pyplot as plt\n",
    "\n",
    "def generate_graph(set_of_nodes):\n",
    "    G = nx.Graph()\n",
    "    dict_of_nodes = dict(set_of_nodes)\n",
    "#     dict_of_nodes = {'en1': ['sh1', 'sh2', 'sh3'],\n",
    "#                     'en2': ['sh4', 'sh5']}\n",
    "    \n",
    "    for n, neighbours in dict_of_nodes.items():\n",
    "        print(n)\n",
    "        neighbours = list(neighbours)\n",
    "        G.add_node(n)\n",
    "        for idx in range(0, len(neighbours)):\n",
    "            print (neighbours[idx], end = \" \") \n",
    "            G.add_node(neighbours[idx])\n",
    "            G.add_node(neighbours[idx])\n",
    "            G.add_edge(n, neighbours[idx])\n",
    "        print('\\n')\n",
    "        \n",
    "    nx.draw_spectral(G, with_labels=True, node_size=1000)\n",
    "    plt.show()\n",
    "\n",
    "    return G"
   ]
  },
  {
   "cell_type": "code",
   "execution_count": 116,
   "metadata": {
    "scrolled": true
   },
   "outputs": [
    {
     "name": "stdout",
     "output_type": "stream",
     "text": [
      "en5\n",
      "sh5 sh2 sh6 \n",
      "\n",
      "sh5\n",
      "en5 sh6 \n",
      "\n",
      "sh2\n",
      "en5 en2 \n",
      "\n",
      "sh6\n",
      "en5 sh5 en6 \n",
      "\n"
     ]
    },
    {
     "data": {
      "image/png": "[encoded data removed]",
      "text/plain": [
       "<Figure size 432x288 with 1 Axes>"
      ]
     },
     "metadata": {},
     "output_type": "display_data"
    }
   ],
   "source": [
    "g = Graph()\n",
    "g.filter(g, 'Shareholder', 'Appointment')\n",
    "\n",
    "G = generate_graph(g.depth('en5', 2))"
   ]
  },
  {
   "cell_type": "code",
   "execution_count": 117,
   "metadata": {},
   "outputs": [
    {
     "data": {
      "image/png": "[encoded data removed]",
      "text/plain": [
       "<Figure size 432x288 with 1 Axes>"
      ]
     },
     "metadata": {},
     "output_type": "display_data"
    }
   ],
   "source": [
    "pos = nx.spring_layout(G, k=3,iterations=280)\n",
    "nx.draw(G, pos, with_labels=True, node_size=800)\n",
    "\n",
    "plt.show()"
   ]
  }
 ],
 "metadata": {
  "kernelspec": {
   "display_name": "Python 3",
   "language": "python",
   "name": "python3"
  },
  "language_info": {
   "codemirror_mode": {
    "name": "ipython",
    "version": 3
   },
   "file_extension": ".py",
   "mimetype": "text/x-python",
   "name": "python",
   "nbconvert_exporter": "python",
   "pygments_lexer": "ipython3",
   "version": "3.7.3"
  }
 },
 "nbformat": 4,
 "nbformat_minor": 2
}
